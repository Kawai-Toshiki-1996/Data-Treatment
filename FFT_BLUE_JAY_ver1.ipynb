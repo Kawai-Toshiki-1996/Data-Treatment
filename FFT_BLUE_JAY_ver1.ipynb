{
 "cells": [
  {
   "cell_type": "code",
   "execution_count": 1,
   "metadata": {},
   "outputs": [
    {
     "name": "stdout",
     "output_type": "stream",
     "text": [
      "OK\n"
     ]
    }
   ],
   "source": [
    "import scipy\n",
    "import numpy as np\n",
    "from scipy import signal\n",
    "import pandas as pd\n",
    "import glob\n",
    "from scipy import interpolate\n",
    "print('OK')"
   ]
  },
  {
   "cell_type": "code",
   "execution_count": 2,
   "metadata": {},
   "outputs": [
    {
     "name": "stdout",
     "output_type": "stream",
     "text": [
      "2014121916\n",
      "2016021604\n"
     ]
    }
   ],
   "source": [
    "ship_name='BLUE_JAY'\n",
    "\n",
    "\"\"\"サンプリング周波数\"\"\"\n",
    "fs_HMS=33\n",
    "cut_filter=0.02 #カット周波数\n",
    "\n",
    "\"\"\"各データセットのpath\"\"\"\n",
    "HMS_path= 'J:/14000TEU/1 NYK BLUE_JAY/20180621+20190719/HMS/*.csv'#'G:/大量データ解析/データ格納庫/BLUE-JAY/HMS_33Hz/*.csv'\n",
    "SIMS_path='J:/14000TEU/1 NYK BLUE_JAY/20180621+20190719/SIMS/*.csv'#'G:/大量データ解析/データ格納庫/BLUE-JAY/SIMS_10Hz/*.csv'\n",
    "#VDR_path= 'J:/14000TEU/2 NYK IBIS/20180621+20190719/SIMS/*.csv'#'G:/大量データ解析/データ格納庫/BLUE-JAY/VDR/*.csv'\n",
    "print(glob.glob(HMS_path)[0][len(HMS_path)-5+11:len(HMS_path)-5+11+10])\n",
    "print(glob.glob(SIMS_path)[0][len(SIMS_path)-5+9:len(SIMS_path)-5+9+10])"
   ]
  },
  {
   "cell_type": "code",
   "execution_count": 6,
   "metadata": {},
   "outputs": [
    {
     "name": "stdout",
     "output_type": "stream",
     "text": [
      "(6102, 19)\n",
      "2017013115\n"
     ]
    }
   ],
   "source": [
    "\"\"\"書き込みcsvファイル作成\"\"\"\n",
    "f1=open('G:/大量データ解析/データ格納庫/垂直縦曲げと水平縦曲げ/'+ship_name+'_垂直水平応力_FFT.csv',\"w\")\n",
    "f1.write(\"year,month,day,time,kn,HDG,H1,theta1,lamda1,w1,H2,theta2,lambda2,w2,error,HbyJWA,TbyJWA,keido,ido\")\n",
    "f1.write('\\n')\n",
    "f2=open('G:/大量データ解析/データ格納庫/垂直縦曲げと水平縦曲げ/m0_'+ship_name+'_垂直水平応力_FFT.csv',\"w\")\n",
    "f2.write(\"year,month,day,time,kn,HDG,H1,theta1,lamda1,w1,H2,theta2,lambda2,w2,error,HbyJWA,TbyJWA,keido,ido,verti,horizon\")\n",
    "f2.write('\\n')\n",
    "\n",
    "basis_data= pd.read_csv('G:/大量データ解析/データ格納庫/全データ/時間ずれ削除後/'+ship_name+'_by_FFT_全データ_時間ずれ削除後.csv', header=None,engine='python',skiprows=1,\n",
    "                       usecols=[0,1,2,3,4,5,6,7,8,9,10,11,12,13,14,15,16,17,18])\n",
    "basis=basis_data.values\n",
    "print(np.shape(basis))\n",
    "print(str('%04.0f'%(basis[400][0]))+str('%02.0f'%(basis[400][1]))+str('%02.0f'%(basis[400][2]))+str('%02.0f'%(basis[400][3])))"
   ]
  },
  {
   "cell_type": "code",
   "execution_count": 7,
   "metadata": {},
   "outputs": [
    {
     "name": "stdout",
     "output_type": "stream",
     "text": [
      "RawStr_HMS_2014121916\n",
      "J:/14000TEU/1 NYK BLUE_JAY/20180621+20190719/HMS\\RawStr_HMS_201412191658min_to_01min.csv\n"
     ]
    }
   ],
   "source": [
    "\"\"\"各データの日付情報リスト作成\"\"\"\n",
    "HMS_list=[str(i[len(HMS_path)-5:len(HMS_path)+16]) for i in glob.glob(HMS_path) if i[len(HMS_path)-5:len(HMS_path)+6] == 'RawStr_HMS_']\n",
    "HMS_path_list=[i for i in glob.glob(HMS_path) if i[len(HMS_path)-5:len(HMS_path)+6] == 'RawStr_HMS_']\n",
    "print(HMS_list[0])\n",
    "print(HMS_path_list[0])"
   ]
  },
  {
   "cell_type": "code",
   "execution_count": null,
   "metadata": {},
   "outputs": [
    {
     "name": "stdout",
     "output_type": "stream",
     "text": [
      "Start :6102回\n",
      "0\n",
      "1\n",
      "2\n",
      "3\n",
      "4\n",
      "5\n",
      "6\n",
      "7\n",
      "8\n",
      "9\n",
      "10\n",
      "11\n",
      "12\n",
      "13\n",
      "14\n",
      "15\n",
      "16\n",
      "17\n",
      "18\n",
      "19\n",
      "20\n",
      "21\n",
      "22\n",
      "23\n",
      "24\n",
      "25\n",
      "26\n",
      "27\n",
      "28\n",
      "29\n",
      "30\n",
      "31\n",
      "32\n",
      "33\n",
      "34\n",
      "35\n",
      "36\n",
      "37\n",
      "38\n",
      "39\n",
      "40\n",
      "41\n",
      "42\n",
      "43\n",
      "44\n",
      "45\n",
      "46\n",
      "47\n",
      "48\n",
      "49\n",
      "50\n",
      "51\n",
      "52\n",
      "53\n",
      "54\n",
      "55\n",
      "56\n",
      "57\n",
      "58\n",
      "59\n",
      "60\n",
      "61\n",
      "62\n",
      "63\n",
      "64\n",
      "65\n",
      "66\n",
      "67\n",
      "68\n",
      "69\n",
      "70\n",
      "71\n",
      "72\n",
      "73\n",
      "74\n",
      "75\n",
      "76\n",
      "77\n"
     ]
    }
   ],
   "source": [
    "\"\"\"実行部分\"\"\"\n",
    "def Searching(csv_filename,listname):\n",
    "    judge=csv_filename in listname\n",
    "    if csv_filename in listname:\n",
    "        return listname.index(csv_filename),judge\n",
    "    return 0,judge\n",
    "\n",
    "def FFT(time_series,fs):\n",
    "    freq=np.linspace(0,fs,len(time_series))\n",
    "    dt=1/fs\n",
    "    fn=1/dt/2\n",
    "    F=np.fft.fft(time_series)\n",
    "    F=F/(len(time_series)/2)\n",
    "    F[(freq>=fn)]=0#ナイキスト周波数以降はカット\n",
    "    F[(freq<=cut_filter)]=0#ロ―カット\n",
    "    return F\n",
    "\n",
    "def Writing_basis(n_basis,f):\n",
    "    #\"year,month,day,time,kn,HDG,H1,theta1,lamda1,w1,H2,theta2,lambda2,w2,error,HbyJWA,TbyJWA,keido,ido\n",
    "    for i in basis[n_basis]:\n",
    "        f.write(str(i)+\",\")\n",
    "    \n",
    "class Calculation:\n",
    "    def __init__(self,vertical,horizontal):\n",
    "        self.Vertical=np.real(np.fft.ifft(FFT(vertical,fs_HMS)))*len(vertical)\n",
    "        self.Horizontal=np.real(np.fft.ifft(FFT(horizontal,fs_HMS)))*len(horizontal)\n",
    "        self.encounter_omega=np.arange(0,2.11,0.03)\n",
    "        self.slide_size=330\n",
    "        self.frame_size=2**16\n",
    "        self.freq=0\n",
    "        \n",
    "    def Writing(self,x,f):\n",
    "        S=interpolate.interp1d(self.freq,x,kind='nearest')\n",
    "        X=S(self.encounter_omega)\n",
    "        for i in range(len(self.encounter_omega)):\n",
    "            f.write(str(X[i])+\",\")\n",
    "\n",
    "    def Writing_m0(self,x,f):\n",
    "        X=interpolate.interp1d(self.freq,x,kind='nearest')\n",
    "        X1=X(self.encounter_omega)\n",
    "        f.write(str(np.sum([(X1[k]+X1[k+1])*0.03/2 for k in range(70)]))+\",\")\n",
    "    \n",
    "    def Welch_ModifiedPeriodogram(self,X,Y):\n",
    "        freq,csd=signal.csd(X,Y,fs_HMS,window='hann',nperseg=self.frame_size,noverlap=self.frame_size-self.slide_size,scaling='density')\n",
    "        self.freq=freq*2*np.pi\n",
    "        return csd/(2*np.pi)\n",
    "\n",
    "def main():\n",
    "    print(\"Start :\"+str(len(basis))+\"回\")\n",
    "    for n_basis in range(len(basis)):                            \n",
    "        Date=str('%04.0f'%(basis[n_basis][0]))+str('%02.0f'%(basis[n_basis][1]))+str('%02.0f'%(basis[n_basis][2]))+str('%02.0f'%(basis[n_basis][3]))\n",
    "\n",
    "        row, judge=Searching('RawStr_HMS_'+str(Date),HMS_list)\n",
    "        if judge ==False:\n",
    "            continue\n",
    "\n",
    "        HMSdata=pd.read_csv(HMS_path_list[row],engine='python',usecols=[5,6],header=None,skiprows=1).dropna()#GMP,GMS\n",
    "        HMSdata=HMSdata.values\n",
    "        vertical=np.array(HMSdata[:,0]+HMSdata[:,1])/2\n",
    "        horizontal=np.array(HMSdata[:,0]-HMSdata[:,1])/2\n",
    "        \n",
    "        DataSet=Calculation(vertical,horizontal)\n",
    "        \n",
    "        \"\"\"計算&書き込み開始\"\"\"\n",
    "        print(n_basis)\n",
    "        Writing_basis(n_basis,f1)\n",
    "        Writing_basis(n_basis,f2)\n",
    "        \"\"\"Power Spectrum Density\"\"\"\n",
    "        XY = DataSet.Welch_ModifiedPeriodogram(DataSet.Vertical,DataSet.Vertical)\n",
    "        DataSet.Writing(np.abs(XY),f1)\n",
    "        DataSet.Writing_m0(np.abs(XY),f2)\n",
    "        XY = DataSet.Welch_ModifiedPeriodogram(DataSet.Horizontal,DataSet.Horizontal)\n",
    "        DataSet.Writing(np.abs(XY),f1)\n",
    "        DataSet.Writing_m0(np.abs(XY),f2)\n",
    "        \"\"\"Cross Power SPectrum Density\"\"\"\n",
    "        XY = DataSet.Welch_ModifiedPeriodogram(DataSet.Vertical,DataSet.Horizontal)\n",
    "        DataSet.Writing(XY.real,f1)\n",
    "        DataSet.Writing(XY.imag,f1)        \n",
    "        f1.write('\\n')\n",
    "        f2.write('\\n')\n",
    "    print(\"End\")\n",
    "    f1.close()\n",
    "    f2.close()\n",
    "\n",
    "if __name__ == '__main__':\n",
    "    main()"
   ]
  },
  {
   "cell_type": "code",
   "execution_count": null,
   "metadata": {},
   "outputs": [],
   "source": []
  }
 ],
 "metadata": {
  "kernelspec": {
   "display_name": "Python 3",
   "language": "python",
   "name": "python3"
  },
  "language_info": {
   "codemirror_mode": {
    "name": "ipython",
    "version": 3
   },
   "file_extension": ".py",
   "mimetype": "text/x-python",
   "name": "python",
   "nbconvert_exporter": "python",
   "pygments_lexer": "ipython3",
   "version": "3.6.5"
  }
 },
 "nbformat": 4,
 "nbformat_minor": 2
}
